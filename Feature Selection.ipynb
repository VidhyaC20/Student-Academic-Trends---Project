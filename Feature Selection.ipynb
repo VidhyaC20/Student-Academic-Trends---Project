{
 "cells": [
  {
   "cell_type": "code",
   "execution_count": 1,
   "id": "04c5cd65-073c-4048-8452-29e87b8f41d6",
   "metadata": {},
   "outputs": [],
   "source": [
    "import pandas as pd\n",
    "import numpy as np\n",
    "import matplotlib.pyplot as plt"
   ]
  },
  {
   "cell_type": "code",
   "execution_count": 14,
   "id": "851a8543-e64d-4876-a84d-dbd27469c594",
   "metadata": {},
   "outputs": [],
   "source": [
    "import warnings\n",
    "warnings.filterwarnings(\"ignore\")"
   ]
  },
  {
   "cell_type": "code",
   "execution_count": 15,
   "id": "0d0eb3c3-5298-473b-a31c-e918bbb40cfd",
   "metadata": {},
   "outputs": [],
   "source": [
    "dataset=pd.read_csv(\"Preprocessed_stud_score.csv\")"
   ]
  },
  {
   "cell_type": "code",
   "execution_count": 16,
   "id": "28b5f376-3e51-4eea-b1bb-0f54d473c261",
   "metadata": {},
   "outputs": [
    {
     "data": {
      "text/html": [
       "<div>\n",
       "<style scoped>\n",
       "    .dataframe tbody tr th:only-of-type {\n",
       "        vertical-align: middle;\n",
       "    }\n",
       "\n",
       "    .dataframe tbody tr th {\n",
       "        vertical-align: top;\n",
       "    }\n",
       "\n",
       "    .dataframe thead th {\n",
       "        text-align: right;\n",
       "    }\n",
       "</style>\n",
       "<table border=\"1\" class=\"dataframe\">\n",
       "  <thead>\n",
       "    <tr style=\"text-align: right;\">\n",
       "      <th></th>\n",
       "      <th>hours_studied</th>\n",
       "      <th>sleep_hours</th>\n",
       "      <th>attendance_percent</th>\n",
       "      <th>previous_scores</th>\n",
       "      <th>exam_score</th>\n",
       "    </tr>\n",
       "  </thead>\n",
       "  <tbody>\n",
       "    <tr>\n",
       "      <th>0</th>\n",
       "      <td>8.0</td>\n",
       "      <td>8.8</td>\n",
       "      <td>72.1</td>\n",
       "      <td>45</td>\n",
       "      <td>30.2</td>\n",
       "    </tr>\n",
       "    <tr>\n",
       "      <th>1</th>\n",
       "      <td>1.3</td>\n",
       "      <td>8.6</td>\n",
       "      <td>60.7</td>\n",
       "      <td>55</td>\n",
       "      <td>25.0</td>\n",
       "    </tr>\n",
       "    <tr>\n",
       "      <th>2</th>\n",
       "      <td>4.0</td>\n",
       "      <td>8.2</td>\n",
       "      <td>73.7</td>\n",
       "      <td>86</td>\n",
       "      <td>35.8</td>\n",
       "    </tr>\n",
       "    <tr>\n",
       "      <th>3</th>\n",
       "      <td>3.5</td>\n",
       "      <td>4.8</td>\n",
       "      <td>95.1</td>\n",
       "      <td>66</td>\n",
       "      <td>34.0</td>\n",
       "    </tr>\n",
       "    <tr>\n",
       "      <th>4</th>\n",
       "      <td>9.1</td>\n",
       "      <td>6.4</td>\n",
       "      <td>89.8</td>\n",
       "      <td>71</td>\n",
       "      <td>40.3</td>\n",
       "    </tr>\n",
       "    <tr>\n",
       "      <th>...</th>\n",
       "      <td>...</td>\n",
       "      <td>...</td>\n",
       "      <td>...</td>\n",
       "      <td>...</td>\n",
       "      <td>...</td>\n",
       "    </tr>\n",
       "    <tr>\n",
       "      <th>195</th>\n",
       "      <td>10.5</td>\n",
       "      <td>5.4</td>\n",
       "      <td>94.0</td>\n",
       "      <td>87</td>\n",
       "      <td>42.7</td>\n",
       "    </tr>\n",
       "    <tr>\n",
       "      <th>196</th>\n",
       "      <td>7.1</td>\n",
       "      <td>6.1</td>\n",
       "      <td>85.1</td>\n",
       "      <td>92</td>\n",
       "      <td>40.4</td>\n",
       "    </tr>\n",
       "    <tr>\n",
       "      <th>197</th>\n",
       "      <td>1.6</td>\n",
       "      <td>6.9</td>\n",
       "      <td>63.8</td>\n",
       "      <td>76</td>\n",
       "      <td>28.2</td>\n",
       "    </tr>\n",
       "    <tr>\n",
       "      <th>198</th>\n",
       "      <td>12.0</td>\n",
       "      <td>7.3</td>\n",
       "      <td>50.5</td>\n",
       "      <td>58</td>\n",
       "      <td>42.0</td>\n",
       "    </tr>\n",
       "    <tr>\n",
       "      <th>199</th>\n",
       "      <td>10.2</td>\n",
       "      <td>6.3</td>\n",
       "      <td>97.4</td>\n",
       "      <td>68</td>\n",
       "      <td>37.8</td>\n",
       "    </tr>\n",
       "  </tbody>\n",
       "</table>\n",
       "<p>200 rows × 5 columns</p>\n",
       "</div>"
      ],
      "text/plain": [
       "     hours_studied  sleep_hours  attendance_percent  previous_scores  \\\n",
       "0              8.0          8.8                72.1               45   \n",
       "1              1.3          8.6                60.7               55   \n",
       "2              4.0          8.2                73.7               86   \n",
       "3              3.5          4.8                95.1               66   \n",
       "4              9.1          6.4                89.8               71   \n",
       "..             ...          ...                 ...              ...   \n",
       "195           10.5          5.4                94.0               87   \n",
       "196            7.1          6.1                85.1               92   \n",
       "197            1.6          6.9                63.8               76   \n",
       "198           12.0          7.3                50.5               58   \n",
       "199           10.2          6.3                97.4               68   \n",
       "\n",
       "     exam_score  \n",
       "0          30.2  \n",
       "1          25.0  \n",
       "2          35.8  \n",
       "3          34.0  \n",
       "4          40.3  \n",
       "..          ...  \n",
       "195        42.7  \n",
       "196        40.4  \n",
       "197        28.2  \n",
       "198        42.0  \n",
       "199        37.8  \n",
       "\n",
       "[200 rows x 5 columns]"
      ]
     },
     "execution_count": 16,
     "metadata": {},
     "output_type": "execute_result"
    }
   ],
   "source": [
    "dataset"
   ]
  },
  {
   "cell_type": "code",
   "execution_count": 17,
   "id": "e45e7a0d-0b3b-43b3-bf0a-065599dc7cd4",
   "metadata": {},
   "outputs": [
    {
     "data": {
      "text/plain": [
       "Index(['hours_studied', 'sleep_hours', 'attendance_percent', 'previous_scores',\n",
       "       'exam_score'],\n",
       "      dtype='object')"
      ]
     },
     "execution_count": 17,
     "metadata": {},
     "output_type": "execute_result"
    }
   ],
   "source": [
    "dataset.columns"
   ]
  },
  {
   "cell_type": "code",
   "execution_count": 18,
   "id": "7c6aded4-7f97-47d2-b2a7-106978e56179",
   "metadata": {},
   "outputs": [],
   "source": [
    "independent=dataset[['hours_studied', 'sleep_hours', 'attendance_percent', 'previous_scores']]"
   ]
  },
  {
   "cell_type": "code",
   "execution_count": 19,
   "id": "ffd12a59-28dd-4b97-8736-4a4f5a9bec97",
   "metadata": {},
   "outputs": [],
   "source": [
    "dependent=dataset[['exam_score']]"
   ]
  },
  {
   "cell_type": "code",
   "execution_count": 20,
   "id": "caf79302-7e12-411f-b0fb-9bd34fcc534e",
   "metadata": {},
   "outputs": [],
   "source": [
    "#Model Selection\n",
    "from sklearn.model_selection import train_test_split\n",
    "X_train,X_test,y_train,y_test=train_test_split(independent,dependent,test_size=1/3,random_state=0)"
   ]
  },
  {
   "cell_type": "code",
   "execution_count": 21,
   "id": "9e2bea9d-8c00-40e1-aed8-84fbf346fe14",
   "metadata": {},
   "outputs": [
    {
     "name": "stdout",
     "output_type": "stream",
     "text": [
      "0.8551473979402313\n"
     ]
    }
   ],
   "source": [
    "#Linear Regressor\n",
    "from sklearn.linear_model import LinearRegression\n",
    "regressor=LinearRegression()\n",
    "regressor.fit(X_train,y_train)\n",
    "y_predict=regressor.predict(X_test)\n",
    "from sklearn.metrics import r2_score\n",
    "r_score=r2_score(y_test,y_predict)\n",
    "print(r_score)"
   ]
  },
  {
   "cell_type": "code",
   "execution_count": 27,
   "id": "1ef44631-4116-428a-b4bd-9d80b11f5c63",
   "metadata": {},
   "outputs": [
    {
     "name": "stdout",
     "output_type": "stream",
     "text": [
      "0.8175427025470888\n"
     ]
    }
   ],
   "source": [
    "#Standard Scaler\n",
    "from sklearn.model_selection import train_test_split\n",
    "X_train,X_test,y_train,y_test=train_test_split(independent,dependent,test_size=1/3,random_state=0)\n",
    "from sklearn.preprocessing import StandardScaler\n",
    "sc=StandardScaler()\n",
    "X_train=sc.fit_transform(X_train)\n",
    "X_test=sc.transform(X_test)\n",
    "from sklearn.svm import SVR\n",
    "regressor=SVR(kernel=\"linear\")\n",
    "regressor.fit(X_train,y_train) \n",
    "y_predict=regressor.predict(X_test)\n",
    "from sklearn.metrics import r2_score\n",
    "r_score=r2_score(y_test,y_predict)\n",
    "print(r_score)"
   ]
  },
  {
   "cell_type": "code",
   "execution_count": 22,
   "id": "5e85281c-d5e5-4d60-9e49-2f58cc6c46a5",
   "metadata": {},
   "outputs": [
    {
     "name": "stdout",
     "output_type": "stream",
     "text": [
      "0.7580527087515163\n"
     ]
    }
   ],
   "source": [
    "#RandomForest\n",
    "from sklearn.model_selection import train_test_split\n",
    "X_train,X_test,y_train,y_test=train_test_split(independent,dependent,test_size=1/3,random_state=0)\n",
    "from sklearn.ensemble import RandomForestRegressor\n",
    "regressor=RandomForestRegressor(n_estimators=100, criterion ='poisson', random_state=0)\n",
    "regressor.fit(X_train,y_train)\n",
    "y_predict=regressor.predict(X_test)\n",
    "from sklearn.metrics import r2_score\n",
    "r_score=r2_score(y_test,y_predict)\n",
    "print(r_score)"
   ]
  },
  {
   "cell_type": "code",
   "execution_count": 30,
   "id": "c5d5e4aa-fd43-4796-9661-59c6c1147ba2",
   "metadata": {},
   "outputs": [
    {
     "name": "stdout",
     "output_type": "stream",
     "text": [
      "0.326928437801945\n"
     ]
    }
   ],
   "source": [
    "#DecisionTree\n",
    "from sklearn.model_selection import train_test_split\n",
    "X_train,X_test,y_train,y_test=train_test_split(independent,dependent,test_size=1/3,random_state=0)\n",
    "from sklearn.tree import DecisionTreeRegressor, plot_tree\n",
    "regressor=DecisionTreeRegressor(criterion='poisson', splitter='random')\n",
    "regressor.fit(X_train,y_train)\n",
    "y_predict=regressor.predict(X_test)\n",
    "from sklearn.metrics import r2_score\n",
    "r_score=r2_score(y_test,y_predict)\n",
    "print(r_score)"
   ]
  },
  {
   "cell_type": "code",
   "execution_count": 31,
   "id": "30429e28-9502-4bb3-b3c0-4ed9c36052de",
   "metadata": {},
   "outputs": [
    {
     "data": {
      "image/png": "[encoded data removed]",
      "text/plain": [
       "<Figure size 640x480 with 1 Axes>"
      ]
     },
     "metadata": {},
     "output_type": "display_data"
    }
   ],
   "source": [
    "from sklearn import  tree\n",
    "tree.plot_tree(regressor)\n",
    "plt.show()"
   ]
  },
  {
   "cell_type": "code",
   "execution_count": 53,
   "id": "52e9a738-16b6-4799-ba4a-30d8264a72fb",
   "metadata": {},
   "outputs": [],
   "source": [
    "from sklearn.feature_selection import SelectKBest, f_regression\n",
    "\n",
    "def selectkbest(independent, dependent, n):\n",
    "    test = SelectKBest(score_func=f_regression, k=n)\n",
    "    fit1 = test.fit(independent, dependent.values.ravel())\n",
    "    selectk_features = fit1.transform(independent)\n",
    "    return selectk_features\n",
    "\n",
    "kbest = selectkbest(independent, dependent, 3)"
   ]
  },
  {
   "cell_type": "code",
   "execution_count": 54,
   "id": "88aa4499-02b6-4baf-a194-58cc8aa06106",
   "metadata": {},
   "outputs": [
    {
     "data": {
      "text/plain": [
       "array([[  8. ,  72.1,  45. ],\n",
       "       [  1.3,  60.7,  55. ],\n",
       "       [  4. ,  73.7,  86. ],\n",
       "       [  3.5,  95.1,  66. ],\n",
       "       [  9.1,  89.8,  71. ],\n",
       "       [  8.4,  58.5,  75. ],\n",
       "       [ 10.8,  54.2,  88. ],\n",
       "       [  2. ,  75.8,  55. ],\n",
       "       [  5.6,  81.6,  84. ],\n",
       "       [  1.3,  66.8,  70. ],\n",
       "       [  3.4,  90.9,  81. ],\n",
       "       [  6.6,  87.6,  85. ],\n",
       "       [  1.3,  83.6,  71. ],\n",
       "       [  3.2,  61.2,  68. ],\n",
       "       [  8.1,  60. ,  90. ],\n",
       "       [  7. ,  51.2,  41. ],\n",
       "       [  3.4,  62.2,  45. ],\n",
       "       [  7.5,  73.8,  58. ],\n",
       "       [  9.9,  92.5,  54. ],\n",
       "       [  1.1,  53.6,  65. ],\n",
       "       [  9.9,  70.7,  84. ],\n",
       "       [  8.7,  81.5,  55. ],\n",
       "       [  4.7,  59.7,  59. ],\n",
       "       [  2.7,  84.8,  82. ],\n",
       "       [ 11.5,  74.7,  77. ],\n",
       "       [  4.7,  62.2,  63. ],\n",
       "       [  2. ,  82.8,  70. ],\n",
       "       [  2.1,  50.3,  75. ],\n",
       "       [ 10.3,  87.5,  73. ],\n",
       "       [  7.6,  88.5,  62. ],\n",
       "       [  9.9,  55.3,  67. ],\n",
       "       [  9. ,  71.3,  87. ],\n",
       "       [  6.9,  58.8,  75. ],\n",
       "       [ 11.7,  97.9,  61. ],\n",
       "       [  5.2,  75.9,  62. ],\n",
       "       [  7.1,  52.5,  84. ],\n",
       "       [ 10.1,  62.5,  69. ],\n",
       "       [  7.8,  92.4,  57. ],\n",
       "       [ 10.5,  72.8,  59. ],\n",
       "       [  7.4,  90.1,  56. ],\n",
       "       [  8.8,  83.4,  54. ],\n",
       "       [  1.5,  99.4,  47. ],\n",
       "       [  3.5,  79.8,  86. ],\n",
       "       [  4.2,  97.5,  52. ],\n",
       "       [  1.9,  94.6,  60. ],\n",
       "       [  3.6,  80.6,  47. ],\n",
       "       [  2.1,  86. ,  87. ],\n",
       "       [  4.1,  75.2,  74. ],\n",
       "       [  8. ,  91.5,  88. ],\n",
       "       [  5. ,  77.4,  84. ],\n",
       "       [  5.1,  94.9,  51. ],\n",
       "       [  3.3,  87.2,  52. ],\n",
       "       [  3.9,  73.7,  53. ],\n",
       "       [ 11.3,  63. ,  87. ],\n",
       "       [  8.1,  62.4,  70. ],\n",
       "       [  7.7,  81.9,  57. ],\n",
       "       [  2.9,  88.3,  86. ],\n",
       "       [  9. ,  76.1,  77. ],\n",
       "       [  2.8,  81.3,  88. ],\n",
       "       [  5.2,  63.7,  73. ],\n",
       "       [ 11.9,  53.9,  78. ],\n",
       "       [  8. ,  64.3,  58. ],\n",
       "       [  7.1,  63.6,  46. ],\n",
       "       [  8.5,  66. ,  93. ],\n",
       "       [ 10.3,  77. ,  52. ],\n",
       "       [  9.5,  56.9,  58. ],\n",
       "       [  3.5,  61.6,  54. ],\n",
       "       [  1.4,  84.7,  63. ],\n",
       "       [  4.5,  85.3,  51. ],\n",
       "       [  3.9,  53.2,  59. ],\n",
       "       [  3.3,  70.4,  40. ],\n",
       "       [ 11.4,  77.1,  85. ],\n",
       "       [ 10.6,  70.8,  74. ],\n",
       "       [  4.5,  60.3,  48. ],\n",
       "       [  8.2,  71. ,  57. ],\n",
       "       [  5.4,  95.2,  42. ],\n",
       "       [ 11.1,  79.2,  43. ],\n",
       "       [  6. ,  84.8,  75. ],\n",
       "       [  3.9,  92.8,  58. ],\n",
       "       [  3.7,  88.3,  84. ],\n",
       "       [  7.2,  69. ,  48. ],\n",
       "       [  3.9,  50.3,  80. ],\n",
       "       [  7.4,  67.6,  95. ],\n",
       "       [ 10.9,  87.7,  88. ],\n",
       "       [  5.4,  92.7,  71. ],\n",
       "       [  3.4,  97.7,  46. ],\n",
       "       [ 12. ,  71. ,  95. ],\n",
       "       [  6.6,  87.4,  40. ],\n",
       "       [  2. ,  77.3,  76. ],\n",
       "       [  1.5,  80.2,  58. ],\n",
       "       [  2.2,  61. ,  70. ],\n",
       "       [  7.9,  61. ,  70. ],\n",
       "       [  9.7,  71.8,  68. ],\n",
       "       [  5.6,  51.5,  61. ],\n",
       "       [  1.7,  66.8,  51. ],\n",
       "       [  5.2,  84. ,  43. ],\n",
       "       [ 12. ,  70.2,  56. ],\n",
       "       [  6.8,  58.3,  95. ],\n",
       "       [ 11.7,  73.4,  70. ],\n",
       "       [ 10.5,  56.4,  47. ],\n",
       "       [  1.1,  81.1,  92. ],\n",
       "       [  8.9,  51.3,  44. ],\n",
       "       [  8.5,  69.7,  65. ],\n",
       "       [  6.9,  78.2,  71. ],\n",
       "       [  3.9,  51.4,  44. ],\n",
       "       [  8.1,  82.1,  76. ],\n",
       "       [  2.2,  56.8,  80. ],\n",
       "       [  5.8,  73.1,  83. ],\n",
       "       [  6. ,  52.5,  43. ],\n",
       "       [ 11.5,  69. ,  49. ],\n",
       "       [ 10.6,  60.6,  49. ],\n",
       "       [  3.9,  66.3,  91. ],\n",
       "       [  6.5,  88.1,  76. ],\n",
       "       [  3. ,  69. ,  59. ],\n",
       "       [ 11. ,  87.6,  45. ],\n",
       "       [ 10.6,  91.6,  55. ],\n",
       "       [  4.3,  62.6,  47. ],\n",
       "       [  8. ,  54.1,  75. ],\n",
       "       [  7.7,  51. ,  88. ],\n",
       "       [  2.7,  77. ,  66. ],\n",
       "       [  9.4, 100. ,  78. ],\n",
       "       [  6.9,  67.5,  78. ],\n",
       "       [  9.6,  82.5,  90. ],\n",
       "       [  6.8,  89.1,  79. ],\n",
       "       [  1. ,  82.6,  54. ],\n",
       "       [  4.6,  87.7,  89. ],\n",
       "       [  1.2,  97.5,  73. ],\n",
       "       [ 11.2,  60. ,  64. ],\n",
       "       [ 10.7,  51. ,  68. ],\n",
       "       [ 10.1,  57.6,  68. ],\n",
       "       [  4.4,  56.3,  59. ],\n",
       "       [  1.6,  83.5,  95. ],\n",
       "       [ 10.7,  78.2,  77. ],\n",
       "       [ 11.4,  60.9,  67. ],\n",
       "       [  1.9,  85. ,  59. ],\n",
       "       [  6.3,  88.3,  76. ],\n",
       "       [  1.8,  58.4,  79. ],\n",
       "       [  9.4,  80.4,  43. ],\n",
       "       [  9.4,  87.4,  79. ],\n",
       "       [  2.4,  55.7,  87. ],\n",
       "       [  6.2,  91. ,  46. ],\n",
       "       [  7. ,  98.2,  88. ],\n",
       "       [  3.9,  55.4,  53. ],\n",
       "       [ 10.6,  51.3,  80. ],\n",
       "       [  5.7,  65.6,  53. ],\n",
       "       [  3.3,  83.9,  56. ],\n",
       "       [  6.9,  97.9,  82. ],\n",
       "       [  9. ,  69.8,  45. ],\n",
       "       [  3.2,  85.8,  50. ],\n",
       "       [  4.4,  53.8,  55. ],\n",
       "       [ 11.9,  84.5,  51. ],\n",
       "       [  8.1,  81.4,  75. ],\n",
       "       [  5.8,  55.1,  44. ],\n",
       "       [  6.7,  88.6,  50. ],\n",
       "       [  2.3,  92.5,  40. ],\n",
       "       [  3.5,  80. ,  66. ],\n",
       "       [  4.7,  56.1,  68. ],\n",
       "       [  7.5,  99.2,  84. ],\n",
       "       [  3.5,  89.1,  78. ],\n",
       "       [  3.4,  67.4,  70. ],\n",
       "       [  1.8,  71.4,  58. ],\n",
       "       [  7.9,  68.5,  42. ],\n",
       "       [  3.5,  75.3,  54. ],\n",
       "       [ 11. ,  67.1,  58. ],\n",
       "       [ 10.5,  92.5,  85. ],\n",
       "       [  1.8,  91.1,  58. ],\n",
       "       [  3.6,  55.3,  84. ],\n",
       "       [  8.4,  98. ,  95. ],\n",
       "       [  3.4,  81.8,  69. ],\n",
       "       [  2.5,  91.4,  44. ],\n",
       "       [ 11.3,  85.4,  83. ],\n",
       "       [  7.3,  71.8,  54. ],\n",
       "       [  6.2,  86.7,  56. ],\n",
       "       [  9.6,  98.3,  90. ],\n",
       "       [  9.9,  63.5,  90. ],\n",
       "       [  3.1,  90.4,  80. ],\n",
       "       [  2.1,  76.9,  77. ],\n",
       "       [  5.7,  74.2,  82. ],\n",
       "       [  5.7,  71.8,  91. ],\n",
       "       [  6.1,  86.6,  52. ],\n",
       "       [  9. ,  63.4,  67. ],\n",
       "       [  8.4,  92.6,  47. ],\n",
       "       [ 11.8,  91.5,  74. ],\n",
       "       [  2.1,  54.3,  54. ],\n",
       "       [  5.4,  94.1,  81. ],\n",
       "       [  4.7,  62.2,  49. ],\n",
       "       [ 10.5,  73.2,  57. ],\n",
       "       [  3.7,  80.5,  92. ],\n",
       "       [  3.1,  68.9,  49. ],\n",
       "       [  5.9,  51.4,  44. ],\n",
       "       [  5.6,  92.5,  43. ],\n",
       "       [  4.1,  59.1,  50. ],\n",
       "       [  3.7,  60.6,  90. ],\n",
       "       [ 11.2,  89.9,  59. ],\n",
       "       [  5.9,  67. ,  78. ],\n",
       "       [ 10.5,  94. ,  87. ],\n",
       "       [  7.1,  85.1,  92. ],\n",
       "       [  1.6,  63.8,  76. ],\n",
       "       [ 12. ,  50.5,  58. ],\n",
       "       [ 10.2,  97.4,  68. ]])"
      ]
     },
     "execution_count": 54,
     "metadata": {},
     "output_type": "execute_result"
    }
   ],
   "source": [
    "kbest"
   ]
  },
  {
   "cell_type": "code",
   "execution_count": null,
   "id": "e17e205d-6672-4c26-b325-b79e4e291faf",
   "metadata": {},
   "outputs": [],
   "source": []
  }
 ],
 "metadata": {
  "kernelspec": {
   "display_name": "Python 3 (ipykernel)",
   "language": "python",
   "name": "python3"
  },
  "language_info": {
   "codemirror_mode": {
    "name": "ipython",
    "version": 3
   },
   "file_extension": ".py",
   "mimetype": "text/x-python",
   "name": "python",
   "nbconvert_exporter": "python",
   "pygments_lexer": "ipython3",
   "version": "3.10.18"
  }
 },
 "nbformat": 4,
 "nbformat_minor": 5
}
