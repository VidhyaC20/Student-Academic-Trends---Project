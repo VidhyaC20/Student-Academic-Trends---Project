{
 "cells": [
  {
   "cell_type": "code",
   "execution_count": 1,
   "id": "181e1cac-979d-43d1-8f0c-1ef18d4f87fb",
   "metadata": {},
   "outputs": [],
   "source": [
    "import pandas as pd\n",
    "import numpy as np"
   ]
  },
  {
   "cell_type": "code",
   "execution_count": 2,
   "id": "931417f9-5404-409d-a101-b99d15d698ce",
   "metadata": {},
   "outputs": [],
   "source": [
    "import warnings\n",
    "warnings.filterwarnings(\"ignore\")"
   ]
  },
  {
   "cell_type": "code",
   "execution_count": 3,
   "id": "77bded84-e87f-476b-8707-b81628178dbc",
   "metadata": {},
   "outputs": [],
   "source": [
    "dataset=pd.read_csv(\"student_exam_scores.csv\")"
   ]
  },
  {
   "cell_type": "code",
   "execution_count": 4,
   "id": "e3a1b3fc-517f-40df-a792-56bcfb952501",
   "metadata": {},
   "outputs": [
    {
     "data": {
      "text/html": [
       "<div>\n",
       "<style scoped>\n",
       "    .dataframe tbody tr th:only-of-type {\n",
       "        vertical-align: middle;\n",
       "    }\n",
       "\n",
       "    .dataframe tbody tr th {\n",
       "        vertical-align: top;\n",
       "    }\n",
       "\n",
       "    .dataframe thead th {\n",
       "        text-align: right;\n",
       "    }\n",
       "</style>\n",
       "<table border=\"1\" class=\"dataframe\">\n",
       "  <thead>\n",
       "    <tr style=\"text-align: right;\">\n",
       "      <th></th>\n",
       "      <th>student_id</th>\n",
       "      <th>hours_studied</th>\n",
       "      <th>sleep_hours</th>\n",
       "      <th>attendance_percent</th>\n",
       "      <th>previous_scores</th>\n",
       "      <th>exam_score</th>\n",
       "    </tr>\n",
       "  </thead>\n",
       "  <tbody>\n",
       "    <tr>\n",
       "      <th>0</th>\n",
       "      <td>S001</td>\n",
       "      <td>8.0</td>\n",
       "      <td>8.8</td>\n",
       "      <td>72.1</td>\n",
       "      <td>45</td>\n",
       "      <td>30.2</td>\n",
       "    </tr>\n",
       "    <tr>\n",
       "      <th>1</th>\n",
       "      <td>S002</td>\n",
       "      <td>1.3</td>\n",
       "      <td>8.6</td>\n",
       "      <td>60.7</td>\n",
       "      <td>55</td>\n",
       "      <td>25.0</td>\n",
       "    </tr>\n",
       "    <tr>\n",
       "      <th>2</th>\n",
       "      <td>S003</td>\n",
       "      <td>4.0</td>\n",
       "      <td>8.2</td>\n",
       "      <td>73.7</td>\n",
       "      <td>86</td>\n",
       "      <td>35.8</td>\n",
       "    </tr>\n",
       "    <tr>\n",
       "      <th>3</th>\n",
       "      <td>S004</td>\n",
       "      <td>3.5</td>\n",
       "      <td>4.8</td>\n",
       "      <td>95.1</td>\n",
       "      <td>66</td>\n",
       "      <td>34.0</td>\n",
       "    </tr>\n",
       "    <tr>\n",
       "      <th>4</th>\n",
       "      <td>S005</td>\n",
       "      <td>9.1</td>\n",
       "      <td>6.4</td>\n",
       "      <td>89.8</td>\n",
       "      <td>71</td>\n",
       "      <td>40.3</td>\n",
       "    </tr>\n",
       "    <tr>\n",
       "      <th>...</th>\n",
       "      <td>...</td>\n",
       "      <td>...</td>\n",
       "      <td>...</td>\n",
       "      <td>...</td>\n",
       "      <td>...</td>\n",
       "      <td>...</td>\n",
       "    </tr>\n",
       "    <tr>\n",
       "      <th>195</th>\n",
       "      <td>S196</td>\n",
       "      <td>10.5</td>\n",
       "      <td>5.4</td>\n",
       "      <td>94.0</td>\n",
       "      <td>87</td>\n",
       "      <td>42.7</td>\n",
       "    </tr>\n",
       "    <tr>\n",
       "      <th>196</th>\n",
       "      <td>S197</td>\n",
       "      <td>7.1</td>\n",
       "      <td>6.1</td>\n",
       "      <td>85.1</td>\n",
       "      <td>92</td>\n",
       "      <td>40.4</td>\n",
       "    </tr>\n",
       "    <tr>\n",
       "      <th>197</th>\n",
       "      <td>S198</td>\n",
       "      <td>1.6</td>\n",
       "      <td>6.9</td>\n",
       "      <td>63.8</td>\n",
       "      <td>76</td>\n",
       "      <td>28.2</td>\n",
       "    </tr>\n",
       "    <tr>\n",
       "      <th>198</th>\n",
       "      <td>S199</td>\n",
       "      <td>12.0</td>\n",
       "      <td>7.3</td>\n",
       "      <td>50.5</td>\n",
       "      <td>58</td>\n",
       "      <td>42.0</td>\n",
       "    </tr>\n",
       "    <tr>\n",
       "      <th>199</th>\n",
       "      <td>S200</td>\n",
       "      <td>10.2</td>\n",
       "      <td>6.3</td>\n",
       "      <td>97.4</td>\n",
       "      <td>68</td>\n",
       "      <td>37.8</td>\n",
       "    </tr>\n",
       "  </tbody>\n",
       "</table>\n",
       "<p>200 rows × 6 columns</p>\n",
       "</div>"
      ],
      "text/plain": [
       "    student_id  hours_studied  sleep_hours  attendance_percent  \\\n",
       "0         S001            8.0          8.8                72.1   \n",
       "1         S002            1.3          8.6                60.7   \n",
       "2         S003            4.0          8.2                73.7   \n",
       "3         S004            3.5          4.8                95.1   \n",
       "4         S005            9.1          6.4                89.8   \n",
       "..         ...            ...          ...                 ...   \n",
       "195       S196           10.5          5.4                94.0   \n",
       "196       S197            7.1          6.1                85.1   \n",
       "197       S198            1.6          6.9                63.8   \n",
       "198       S199           12.0          7.3                50.5   \n",
       "199       S200           10.2          6.3                97.4   \n",
       "\n",
       "     previous_scores  exam_score  \n",
       "0                 45        30.2  \n",
       "1                 55        25.0  \n",
       "2                 86        35.8  \n",
       "3                 66        34.0  \n",
       "4                 71        40.3  \n",
       "..               ...         ...  \n",
       "195               87        42.7  \n",
       "196               92        40.4  \n",
       "197               76        28.2  \n",
       "198               58        42.0  \n",
       "199               68        37.8  \n",
       "\n",
       "[200 rows x 6 columns]"
      ]
     },
     "execution_count": 4,
     "metadata": {},
     "output_type": "execute_result"
    }
   ],
   "source": [
    "dataset"
   ]
  },
  {
   "cell_type": "code",
   "execution_count": 5,
   "id": "82da83ed-aebd-49cc-a60a-946f2eaf0f6c",
   "metadata": {},
   "outputs": [
    {
     "data": {
      "text/plain": [
       "<bound method DataFrame.info of     student_id  hours_studied  sleep_hours  attendance_percent  \\\n",
       "0         S001            8.0          8.8                72.1   \n",
       "1         S002            1.3          8.6                60.7   \n",
       "2         S003            4.0          8.2                73.7   \n",
       "3         S004            3.5          4.8                95.1   \n",
       "4         S005            9.1          6.4                89.8   \n",
       "..         ...            ...          ...                 ...   \n",
       "195       S196           10.5          5.4                94.0   \n",
       "196       S197            7.1          6.1                85.1   \n",
       "197       S198            1.6          6.9                63.8   \n",
       "198       S199           12.0          7.3                50.5   \n",
       "199       S200           10.2          6.3                97.4   \n",
       "\n",
       "     previous_scores  exam_score  \n",
       "0                 45        30.2  \n",
       "1                 55        25.0  \n",
       "2                 86        35.8  \n",
       "3                 66        34.0  \n",
       "4                 71        40.3  \n",
       "..               ...         ...  \n",
       "195               87        42.7  \n",
       "196               92        40.4  \n",
       "197               76        28.2  \n",
       "198               58        42.0  \n",
       "199               68        37.8  \n",
       "\n",
       "[200 rows x 6 columns]>"
      ]
     },
     "execution_count": 5,
     "metadata": {},
     "output_type": "execute_result"
    }
   ],
   "source": [
    "dataset.info"
   ]
  },
  {
   "cell_type": "code",
   "execution_count": 6,
   "id": "1a83a245-c84c-4555-8766-fe879158ee56",
   "metadata": {},
   "outputs": [
    {
     "data": {
      "text/plain": [
       "Index(['student_id', 'hours_studied', 'sleep_hours', 'attendance_percent',\n",
       "       'previous_scores', 'exam_score'],\n",
       "      dtype='object')"
      ]
     },
     "execution_count": 6,
     "metadata": {},
     "output_type": "execute_result"
    }
   ],
   "source": [
    "dataset.columns"
   ]
  },
  {
   "cell_type": "code",
   "execution_count": 7,
   "id": "92dc70bd-e50e-454a-a61d-357ff1dabc1d",
   "metadata": {},
   "outputs": [
    {
     "data": {
      "text/plain": [
       "student_id            0\n",
       "hours_studied         0\n",
       "sleep_hours           0\n",
       "attendance_percent    0\n",
       "previous_scores       0\n",
       "exam_score            0\n",
       "dtype: int64"
      ]
     },
     "execution_count": 7,
     "metadata": {},
     "output_type": "execute_result"
    }
   ],
   "source": [
    "#Finding Missing Values\n",
    "dataset.isnull().sum()"
   ]
  },
  {
   "cell_type": "code",
   "execution_count": 8,
   "id": "4a7389a2-450c-4df5-9d20-4b07b845d966",
   "metadata": {},
   "outputs": [
    {
     "data": {
      "text/plain": [
       "student_id            0\n",
       "hours_studied         0\n",
       "sleep_hours           0\n",
       "attendance_percent    0\n",
       "previous_scores       0\n",
       "exam_score            0\n",
       "dtype: int64"
      ]
     },
     "execution_count": 8,
     "metadata": {},
     "output_type": "execute_result"
    }
   ],
   "source": [
    "dataset.isna().sum()"
   ]
  },
  {
   "cell_type": "code",
   "execution_count": 9,
   "id": "3dd31b36-eaf5-49fd-b5a5-a6ebb170e509",
   "metadata": {},
   "outputs": [],
   "source": [
    "dataset=dataset.drop([\"student_id\"],axis=1)"
   ]
  },
  {
   "cell_type": "code",
   "execution_count": 10,
   "id": "458d931b-80eb-4fe9-825a-97f68b88a524",
   "metadata": {},
   "outputs": [
    {
     "data": {
      "text/html": [
       "<div>\n",
       "<style scoped>\n",
       "    .dataframe tbody tr th:only-of-type {\n",
       "        vertical-align: middle;\n",
       "    }\n",
       "\n",
       "    .dataframe tbody tr th {\n",
       "        vertical-align: top;\n",
       "    }\n",
       "\n",
       "    .dataframe thead th {\n",
       "        text-align: right;\n",
       "    }\n",
       "</style>\n",
       "<table border=\"1\" class=\"dataframe\">\n",
       "  <thead>\n",
       "    <tr style=\"text-align: right;\">\n",
       "      <th></th>\n",
       "      <th>hours_studied</th>\n",
       "      <th>sleep_hours</th>\n",
       "      <th>attendance_percent</th>\n",
       "      <th>previous_scores</th>\n",
       "      <th>exam_score</th>\n",
       "    </tr>\n",
       "  </thead>\n",
       "  <tbody>\n",
       "    <tr>\n",
       "      <th>0</th>\n",
       "      <td>8.0</td>\n",
       "      <td>8.8</td>\n",
       "      <td>72.1</td>\n",
       "      <td>45</td>\n",
       "      <td>30.2</td>\n",
       "    </tr>\n",
       "    <tr>\n",
       "      <th>1</th>\n",
       "      <td>1.3</td>\n",
       "      <td>8.6</td>\n",
       "      <td>60.7</td>\n",
       "      <td>55</td>\n",
       "      <td>25.0</td>\n",
       "    </tr>\n",
       "    <tr>\n",
       "      <th>2</th>\n",
       "      <td>4.0</td>\n",
       "      <td>8.2</td>\n",
       "      <td>73.7</td>\n",
       "      <td>86</td>\n",
       "      <td>35.8</td>\n",
       "    </tr>\n",
       "    <tr>\n",
       "      <th>3</th>\n",
       "      <td>3.5</td>\n",
       "      <td>4.8</td>\n",
       "      <td>95.1</td>\n",
       "      <td>66</td>\n",
       "      <td>34.0</td>\n",
       "    </tr>\n",
       "    <tr>\n",
       "      <th>4</th>\n",
       "      <td>9.1</td>\n",
       "      <td>6.4</td>\n",
       "      <td>89.8</td>\n",
       "      <td>71</td>\n",
       "      <td>40.3</td>\n",
       "    </tr>\n",
       "    <tr>\n",
       "      <th>...</th>\n",
       "      <td>...</td>\n",
       "      <td>...</td>\n",
       "      <td>...</td>\n",
       "      <td>...</td>\n",
       "      <td>...</td>\n",
       "    </tr>\n",
       "    <tr>\n",
       "      <th>195</th>\n",
       "      <td>10.5</td>\n",
       "      <td>5.4</td>\n",
       "      <td>94.0</td>\n",
       "      <td>87</td>\n",
       "      <td>42.7</td>\n",
       "    </tr>\n",
       "    <tr>\n",
       "      <th>196</th>\n",
       "      <td>7.1</td>\n",
       "      <td>6.1</td>\n",
       "      <td>85.1</td>\n",
       "      <td>92</td>\n",
       "      <td>40.4</td>\n",
       "    </tr>\n",
       "    <tr>\n",
       "      <th>197</th>\n",
       "      <td>1.6</td>\n",
       "      <td>6.9</td>\n",
       "      <td>63.8</td>\n",
       "      <td>76</td>\n",
       "      <td>28.2</td>\n",
       "    </tr>\n",
       "    <tr>\n",
       "      <th>198</th>\n",
       "      <td>12.0</td>\n",
       "      <td>7.3</td>\n",
       "      <td>50.5</td>\n",
       "      <td>58</td>\n",
       "      <td>42.0</td>\n",
       "    </tr>\n",
       "    <tr>\n",
       "      <th>199</th>\n",
       "      <td>10.2</td>\n",
       "      <td>6.3</td>\n",
       "      <td>97.4</td>\n",
       "      <td>68</td>\n",
       "      <td>37.8</td>\n",
       "    </tr>\n",
       "  </tbody>\n",
       "</table>\n",
       "<p>200 rows × 5 columns</p>\n",
       "</div>"
      ],
      "text/plain": [
       "     hours_studied  sleep_hours  attendance_percent  previous_scores  \\\n",
       "0              8.0          8.8                72.1               45   \n",
       "1              1.3          8.6                60.7               55   \n",
       "2              4.0          8.2                73.7               86   \n",
       "3              3.5          4.8                95.1               66   \n",
       "4              9.1          6.4                89.8               71   \n",
       "..             ...          ...                 ...              ...   \n",
       "195           10.5          5.4                94.0               87   \n",
       "196            7.1          6.1                85.1               92   \n",
       "197            1.6          6.9                63.8               76   \n",
       "198           12.0          7.3                50.5               58   \n",
       "199           10.2          6.3                97.4               68   \n",
       "\n",
       "     exam_score  \n",
       "0          30.2  \n",
       "1          25.0  \n",
       "2          35.8  \n",
       "3          34.0  \n",
       "4          40.3  \n",
       "..          ...  \n",
       "195        42.7  \n",
       "196        40.4  \n",
       "197        28.2  \n",
       "198        42.0  \n",
       "199        37.8  \n",
       "\n",
       "[200 rows x 5 columns]"
      ]
     },
     "execution_count": 10,
     "metadata": {},
     "output_type": "execute_result"
    }
   ],
   "source": [
    "dataset"
   ]
  },
  {
   "cell_type": "code",
   "execution_count": 11,
   "id": "07af8a1b-db69-4175-ae15-b2ec616219a2",
   "metadata": {},
   "outputs": [],
   "source": [
    "def quanqual(dataset):\n",
    "    quan = []\n",
    "    qual = []\n",
    "    for columnname in dataset.columns:\n",
    "        print(columnname)\n",
    "        if dataset[columnname].dtype == 'O':  # 'O' means object (usually categorical/qualitative)\n",
    "            qual.append(columnname)\n",
    "        else:\n",
    "            quan.append(columnname)\n",
    "    return quan, qual  # moved return outside the loop\n"
   ]
  },
  {
   "cell_type": "code",
   "execution_count": 12,
   "id": "beaf63ac-b5f0-48ac-8da4-6571f747fb6e",
   "metadata": {},
   "outputs": [
    {
     "name": "stdout",
     "output_type": "stream",
     "text": [
      "hours_studied\n",
      "sleep_hours\n",
      "attendance_percent\n",
      "previous_scores\n",
      "exam_score\n"
     ]
    },
    {
     "data": {
      "text/plain": [
       "(['hours_studied',\n",
       "  'sleep_hours',\n",
       "  'attendance_percent',\n",
       "  'previous_scores',\n",
       "  'exam_score'],\n",
       " [])"
      ]
     },
     "execution_count": 12,
     "metadata": {},
     "output_type": "execute_result"
    }
   ],
   "source": [
    "quanqual(dataset)"
   ]
  },
  {
   "cell_type": "code",
   "execution_count": 14,
   "id": "6d5c7b92-7043-4516-90a3-39df2a89bbf8",
   "metadata": {},
   "outputs": [],
   "source": [
    "#Saving the preprocessed data\n",
    "dataset.to_csv(\"Preprocessed_stud_score.csv\",index=False)"
   ]
  },
  {
   "cell_type": "code",
   "execution_count": null,
   "id": "c98e5021-64d9-4895-b143-c2d2d737055c",
   "metadata": {},
   "outputs": [],
   "source": []
  }
 ],
 "metadata": {
  "kernelspec": {
   "display_name": "Python 3 (ipykernel)",
   "language": "python",
   "name": "python3"
  },
  "language_info": {
   "codemirror_mode": {
    "name": "ipython",
    "version": 3
   },
   "file_extension": ".py",
   "mimetype": "text/x-python",
   "name": "python",
   "nbconvert_exporter": "python",
   "pygments_lexer": "ipython3",
   "version": "3.10.18"
  }
 },
 "nbformat": 4,
 "nbformat_minor": 5
}
